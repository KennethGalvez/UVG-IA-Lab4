{
 "cells": [
  {
   "cell_type": "code",
   "execution_count": 5,
   "metadata": {},
   "outputs": [],
   "source": [
    "#Task 1.1\n",
    "import pandas as pd\n",
    "\n",
    "# Leer el archivo csv\n",
    "df = pd.read_csv('kc_house_data.csv')\n"
   ]
  },
  {
   "cell_type": "code",
   "execution_count": 1,
   "metadata": {},
   "outputs": [
    {
     "data": {
      "text/plain": [
       "array([3.85812609e-02, 6.79940947e+01, 1.99222279e+05])"
      ]
     },
     "execution_count": 1,
     "metadata": {},
     "output_type": "execute_result"
    }
   ],
   "source": [
    "#Task 1.2\n",
    "import numpy as np\n",
    "import pandas as pd\n",
    "import matplotlib.pyplot as plt\n",
    "\n",
    "# Cargar los datos en un dataframe\n",
    "data = pd.read_csv('kc_house_data.csv')\n",
    "x = data['sqft_living'].values\n",
    "y = data['price'].values\n",
    "\n",
    "# Ajustar el modelo polinomial de regresión lineal\n",
    "coefficients = np.polyfit(x, y, 2)  # El 2 es para indicar que se ajustará una línea polinómica de segundo grado\n",
    "coefficients\n",
    "# Mirar el modelo \n",
    "plt.scatter(x, y, s=5)\n",
    "plt.plot(x, np.polyval(coefficients, x), color='r')\n",
    "plt.show()"
   ]
  },
  {
   "cell_type": "code",
   "execution_count": 6,
   "metadata": {},
   "outputs": [
    {
     "name": "stdout",
     "output_type": "stream",
     "text": [
      "Coeficientes del modelo:\n",
      "[[540088.14176653]\n",
      " [257730.19883695]]\n"
     ]
    }
   ],
   "source": [
    "#Task 1.3\n",
    "import numpy as np\n",
    "import pandas as pd\n",
    "import matplotlib.pyplot as plt\n",
    "\n",
    "# Cargar los datos en un dataframe\n",
    "data = pd.read_csv('kc_house_data.csv')\n",
    "x = data['sqft_living'].values.reshape(-1, 1)  # Variable predictora: pies cuadrados de espacio habitable interior\n",
    "y = data['price'].values.reshape(-1, 1)  # Variable de respuesta: precio\n",
    "\n",
    "# Normalizar los datos de entrada\n",
    "x = (x - np.mean(x)) / np.std(x)\n",
    "\n",
    "# Agregar una columna de 1's para la intercepción\n",
    "X = np.hstack((np.ones((len(x), 1)), x))\n",
    "\n",
    "# Definir las funciones para calcular la función de costo y el gradiente\n",
    "def cost_function(X, y, theta):\n",
    "    m = len(y)\n",
    "    J = 1 / (2 * m) * np.sum((X @ theta - y) ** 2)\n",
    "    return J\n",
    "\n",
    "def gradient(X, y, theta):\n",
    "    m = len(y)\n",
    "    grad = 1 / m * (X.T @ (X @ theta - y))\n",
    "    return grad\n",
    "\n",
    "# Definir los parámetros del modelo y la tasa de aprendizaje\n",
    "theta =np.random.randn(2,1)\n",
    "alpha = 0.1\n",
    "num_iters = 100\n",
    "\n",
    "# Ejecutar el descenso del gradiente para encontrar los coeficientes del modelo\n",
    "J_history = np.zeros((num_iters, 1))\n",
    "for i in range(num_iters):\n",
    "    theta = theta - alpha * gradient(X, y, theta)\n",
    "    J_history[i] = cost_function(X, y, theta)\n",
    "\n",
    "# Visualizar la función de costo durante el descenso del gradiente\n",
    "\n",
    "# Imprimir los coeficientes del modelo\n",
    "print('Coeficientes del modelo:')\n",
    "print(theta)"
   ]
  },
  {
   "cell_type": "code",
   "execution_count": null,
   "metadata": {},
   "outputs": [],
   "source": []
  },
  {
   "cell_type": "code",
   "execution_count": null,
   "metadata": {},
   "outputs": [],
   "source": []
  }
 ],
 "metadata": {
  "kernelspec": {
   "display_name": "Python 3 (ipykernel)",
   "language": "python",
   "name": "python3"
  },
  "language_info": {
   "codemirror_mode": {
    "name": "ipython",
    "version": 3
   },
   "file_extension": ".py",
   "mimetype": "text/x-python",
   "name": "python",
   "nbconvert_exporter": "python",
   "pygments_lexer": "ipython3",
   "version": "3.8.8"
  },
  "vscode": {
   "interpreter": {
    "hash": "afde94ae638d08589adf48febe6dea6146aaad166a85515b8ddc3685cf19c1b0"
   }
  }
 },
 "nbformat": 4,
 "nbformat_minor": 2
}
