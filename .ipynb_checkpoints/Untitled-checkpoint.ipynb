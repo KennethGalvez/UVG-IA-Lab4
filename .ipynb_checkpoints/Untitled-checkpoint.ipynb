{
 "cells": [
  {
   "cell_type": "code",
   "execution_count": 55,
   "id": "84a6507c",
   "metadata": {},
   "outputs": [],
   "source": [
    "import pandas as pd\n",
    "import numpy as np\n",
    "import matplotlib.pyplot as plt\n",
    "import random\n",
    "\n",
    "# Leer el archivo csv\n",
    "df = pd.read_csv('kc_house_data.csv')\n",
    "x = df['sqft_living'].values\n",
    "y = df['price'].values\n",
    "\n",
    "\n",
    "# Definir un grado\n",
    "k = 2"
   ]
  },
  {
   "cell_type": "code",
   "execution_count": 56,
   "id": "e0d695b0",
   "metadata": {},
   "outputs": [
    {
     "data": {
      "text/plain": [
       "[0.5954878347122889, 0.48827135576643665, 0.8390131230158137]"
      ]
     },
     "execution_count": 56,
     "metadata": {},
     "output_type": "execute_result"
    }
   ],
   "source": [
    "#Task 1.2 pasamos a notacion matricial los datos de x y obtenemos el vector w de forma aleatoria\n",
    "w =[]\n",
    "for g in range(0,k+1):\n",
    "    w.append(random.random())\n",
    "w"
   ]
  },
  {
   "cell_type": "code",
   "execution_count": 57,
   "id": "161fa570",
   "metadata": {},
   "outputs": [
    {
     "data": {
      "text/plain": [
       "array([[      1,    1180, 1392400],\n",
       "       [      1,    2570, 6604900],\n",
       "       [      1,     770,  592900],\n",
       "       ...,\n",
       "       [      1,    1020, 1040400],\n",
       "       [      1,    1600, 2560000],\n",
       "       [      1,    1020, 1040400]], dtype=int64)"
      ]
     },
     "execution_count": 57,
     "metadata": {},
     "output_type": "execute_result"
    }
   ],
   "source": [
    "X = []\n",
    "for xi in x:\n",
    "    X.append([xi**g for g in range(0,k+1)])\n",
    "X = np.array(X)\n",
    "X"
   ]
  },
  {
   "cell_type": "code",
   "execution_count": 58,
   "id": "12803235",
   "metadata": {},
   "outputs": [
    {
     "data": {
      "text/plain": [
       "32719125510657.92"
      ]
     },
     "execution_count": 58,
     "metadata": {},
     "output_type": "execute_result"
    }
   ],
   "source": [
    "L=(np.transpose((np.subtract(y,X.dot(w))))).dot(np.subtract(y,X.dot(w)))\n",
    "L = L*(1/len(x))\n",
    "L"
   ]
  },
  {
   "cell_type": "code",
   "execution_count": 65,
   "id": "e4637317",
   "metadata": {},
   "outputs": [],
   "source": [
    "def compute_cost(X, y, theta):\n",
    "    m = len(y)\n",
    "    predictions = X.dot(theta)\n",
    "    cost = (1/2*len(x)) * np.sum(np.square(predictions - y))\n",
    "    return cost"
   ]
  },
  {
   "cell_type": "code",
   "execution_count": null,
   "id": "0787f7a0",
   "metadata": {},
   "outputs": [],
   "source": [
    "lr = 0.001  # tasa de aprendizaje\n",
    "n_iterations = 1000  # número máximo de iteraciones\n",
    "theta = np.random.randn(k,1)\n",
    "\n",
    "for iteration in range(n_iterations):\n",
    "    gradients = 1/len(x) * (X.T @ (X @ theta - y))\n",
    "    theta = np.subtract(theta, lr * gradients)\n",
    "    cost = compute_cost(X, y, theta)\n",
    "    if iteration % 100 == 0:\n",
    "        print(f\"Iteration {iteration}: Cost={cost}\")\n"
   ]
  },
  {
   "cell_type": "code",
   "execution_count": null,
   "id": "d8f3ad99",
   "metadata": {},
   "outputs": [],
   "source": []
  }
 ],
 "metadata": {
  "kernelspec": {
   "display_name": "Python 3 (ipykernel)",
   "language": "python",
   "name": "python3"
  },
  "language_info": {
   "codemirror_mode": {
    "name": "ipython",
    "version": 3
   },
   "file_extension": ".py",
   "mimetype": "text/x-python",
   "name": "python",
   "nbconvert_exporter": "python",
   "pygments_lexer": "ipython3",
   "version": "3.8.8"
  }
 },
 "nbformat": 4,
 "nbformat_minor": 5
}
